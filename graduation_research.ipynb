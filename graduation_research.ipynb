{
  "nbformat": 4,
  "nbformat_minor": 0,
  "metadata": {
    "colab": {
      "provenance": [],
      "authorship_tag": "ABX9TyPeldULitVVVifWsJfXIlsV",
      "include_colab_link": true
    },
    "kernelspec": {
      "name": "python3",
      "display_name": "Python 3"
    },
    "language_info": {
      "name": "python"
    },
    "accelerator": "GPU",
    "gpuClass": "standard"
  },
  "cells": [
    {
      "cell_type": "markdown",
      "metadata": {
        "id": "view-in-github",
        "colab_type": "text"
      },
      "source": [
        "<a href=\"https://colab.research.google.com/github/abyss-2023/test3/blob/main/graduation_research.ipynb\" target=\"_parent\"><img src=\"https://colab.research.google.com/assets/colab-badge.svg\" alt=\"Open In Colab\"/></a>"
      ]
    },
    {
      "cell_type": "code",
      "execution_count": null,
      "metadata": {
        "colab": {
          "base_uri": "https://localhost:8080/"
        },
        "id": "_QWcADNP-0Pj",
        "outputId": "28d21343-e4f9-416b-a6ef-8ec2072f39df"
      },
      "outputs": [
        {
          "output_type": "stream",
          "name": "stdout",
          "text": [
            "hello,world!\n"
          ]
        }
      ],
      "source": [
        "print(\"hello,world!\")"
      ]
    },
    {
      "cell_type": "code",
      "source": [
        "!git clone https://github.com/tanreinama/gpt2-japanese"
      ],
      "metadata": {
        "colab": {
          "base_uri": "https://localhost:8080/"
        },
        "id": "i2tUE1vydRsk",
        "outputId": "6db572d8-ca35-4c47-fa64-47090b978a0b"
      },
      "execution_count": 2,
      "outputs": [
        {
          "output_type": "stream",
          "name": "stdout",
          "text": [
            "Cloning into 'gpt2-japanese'...\n",
            "remote: Enumerating objects: 272, done.\u001b[K\n",
            "remote: Counting objects: 100% (107/107), done.\u001b[K\n",
            "remote: Compressing objects: 100% (27/27), done.\u001b[K\n",
            "remote: Total 272 (delta 91), reused 81 (delta 80), pack-reused 165\u001b[K\n",
            "Receiving objects: 100% (272/272), 1.22 MiB | 26.58 MiB/s, done.\n",
            "Resolving deltas: 100% (148/148), done.\n"
          ]
        }
      ]
    },
    {
      "cell_type": "code",
      "source": [
        "%cd gpt2-japanese"
      ],
      "metadata": {
        "colab": {
          "base_uri": "https://localhost:8080/"
        },
        "id": "-6kQyhZtdZx0",
        "outputId": "4334f174-dca1-4196-8b9f-c9a39cd19068"
      },
      "execution_count": 3,
      "outputs": [
        {
          "output_type": "stream",
          "name": "stdout",
          "text": [
            "/content/gpt2-japanese\n"
          ]
        }
      ]
    },
    {
      "cell_type": "code",
      "source": [
        "!pip uninstall tensorflow -y"
      ],
      "metadata": {
        "colab": {
          "base_uri": "https://localhost:8080/"
        },
        "id": "emYnDOOJdcZT",
        "outputId": "97fd8dae-f258-4e9f-d73f-5bc6191e3880"
      },
      "execution_count": 4,
      "outputs": [
        {
          "output_type": "stream",
          "name": "stdout",
          "text": [
            "Found existing installation: tensorflow 2.9.2\n",
            "Uninstalling tensorflow-2.9.2:\n",
            "  Successfully uninstalled tensorflow-2.9.2\n"
          ]
        }
      ]
    },
    {
      "cell_type": "code",
      "source": [
        "!pip install -r requirements.txt"
      ],
      "metadata": {
        "colab": {
          "base_uri": "https://localhost:8080/"
        },
        "id": "pOXsng19dkiL",
        "outputId": "aa8cfa6a-0239-45c2-d6e8-2020c8e7f260"
      },
      "execution_count": 5,
      "outputs": [
        {
          "output_type": "stream",
          "name": "stdout",
          "text": [
            "Looking in indexes: https://pypi.org/simple, https://us-python.pkg.dev/colab-wheels/public/simple/\n",
            "Requirement already satisfied: tqdm in /usr/local/lib/python3.7/dist-packages (from -r requirements.txt (line 1)) (4.64.1)\n",
            "Requirement already satisfied: numpy in /usr/local/lib/python3.7/dist-packages (from -r requirements.txt (line 2)) (1.21.6)\n",
            "Collecting jaconv\n",
            "  Downloading jaconv-0.3.tar.gz (15 kB)\n",
            "Collecting tensorflow\n",
            "  Downloading tensorflow-2.11.0-cp37-cp37m-manylinux_2_17_x86_64.manylinux2014_x86_64.whl (588.3 MB)\n",
            "\u001b[K     |████████████████████████████████| 588.3 MB 6.8 kB/s \n",
            "\u001b[?25hRequirement already satisfied: absl-py>=1.0.0 in /usr/local/lib/python3.7/dist-packages (from tensorflow->-r requirements.txt (line 4)) (1.3.0)\n",
            "Requirement already satisfied: astunparse>=1.6.0 in /usr/local/lib/python3.7/dist-packages (from tensorflow->-r requirements.txt (line 4)) (1.6.3)\n",
            "Requirement already satisfied: protobuf<3.20,>=3.9.2 in /usr/local/lib/python3.7/dist-packages (from tensorflow->-r requirements.txt (line 4)) (3.19.6)\n",
            "Requirement already satisfied: setuptools in /usr/local/lib/python3.7/dist-packages (from tensorflow->-r requirements.txt (line 4)) (57.4.0)\n",
            "Collecting tensorflow-estimator<2.12,>=2.11.0\n",
            "  Downloading tensorflow_estimator-2.11.0-py2.py3-none-any.whl (439 kB)\n",
            "\u001b[K     |████████████████████████████████| 439 kB 70.3 MB/s \n",
            "\u001b[?25hCollecting tensorboard<2.12,>=2.11\n",
            "  Downloading tensorboard-2.11.0-py3-none-any.whl (6.0 MB)\n",
            "\u001b[K     |████████████████████████████████| 6.0 MB 54.4 MB/s \n",
            "\u001b[?25hRequirement already satisfied: typing-extensions>=3.6.6 in /usr/local/lib/python3.7/dist-packages (from tensorflow->-r requirements.txt (line 4)) (4.1.1)\n",
            "Requirement already satisfied: tensorflow-io-gcs-filesystem>=0.23.1 in /usr/local/lib/python3.7/dist-packages (from tensorflow->-r requirements.txt (line 4)) (0.27.0)\n",
            "Requirement already satisfied: grpcio<2.0,>=1.24.3 in /usr/local/lib/python3.7/dist-packages (from tensorflow->-r requirements.txt (line 4)) (1.50.0)\n",
            "Requirement already satisfied: gast<=0.4.0,>=0.2.1 in /usr/local/lib/python3.7/dist-packages (from tensorflow->-r requirements.txt (line 4)) (0.4.0)\n",
            "Collecting flatbuffers>=2.0\n",
            "  Downloading flatbuffers-22.11.23-py2.py3-none-any.whl (26 kB)\n",
            "Requirement already satisfied: libclang>=13.0.0 in /usr/local/lib/python3.7/dist-packages (from tensorflow->-r requirements.txt (line 4)) (14.0.6)\n",
            "Requirement already satisfied: termcolor>=1.1.0 in /usr/local/lib/python3.7/dist-packages (from tensorflow->-r requirements.txt (line 4)) (2.1.0)\n",
            "Requirement already satisfied: wrapt>=1.11.0 in /usr/local/lib/python3.7/dist-packages (from tensorflow->-r requirements.txt (line 4)) (1.14.1)\n",
            "Requirement already satisfied: google-pasta>=0.1.1 in /usr/local/lib/python3.7/dist-packages (from tensorflow->-r requirements.txt (line 4)) (0.2.0)\n",
            "Requirement already satisfied: six>=1.12.0 in /usr/local/lib/python3.7/dist-packages (from tensorflow->-r requirements.txt (line 4)) (1.15.0)\n",
            "Requirement already satisfied: h5py>=2.9.0 in /usr/local/lib/python3.7/dist-packages (from tensorflow->-r requirements.txt (line 4)) (3.1.0)\n",
            "Requirement already satisfied: packaging in /usr/local/lib/python3.7/dist-packages (from tensorflow->-r requirements.txt (line 4)) (21.3)\n",
            "Collecting keras<2.12,>=2.11.0\n",
            "  Downloading keras-2.11.0-py2.py3-none-any.whl (1.7 MB)\n",
            "\u001b[K     |████████████████████████████████| 1.7 MB 54.3 MB/s \n",
            "\u001b[?25hRequirement already satisfied: opt-einsum>=2.3.2 in /usr/local/lib/python3.7/dist-packages (from tensorflow->-r requirements.txt (line 4)) (3.3.0)\n",
            "Requirement already satisfied: wheel<1.0,>=0.23.0 in /usr/local/lib/python3.7/dist-packages (from astunparse>=1.6.0->tensorflow->-r requirements.txt (line 4)) (0.38.4)\n",
            "Requirement already satisfied: cached-property in /usr/local/lib/python3.7/dist-packages (from h5py>=2.9.0->tensorflow->-r requirements.txt (line 4)) (1.5.2)\n",
            "Requirement already satisfied: markdown>=2.6.8 in /usr/local/lib/python3.7/dist-packages (from tensorboard<2.12,>=2.11->tensorflow->-r requirements.txt (line 4)) (3.4.1)\n",
            "Requirement already satisfied: google-auth<3,>=1.6.3 in /usr/local/lib/python3.7/dist-packages (from tensorboard<2.12,>=2.11->tensorflow->-r requirements.txt (line 4)) (2.14.1)\n",
            "Requirement already satisfied: tensorboard-data-server<0.7.0,>=0.6.0 in /usr/local/lib/python3.7/dist-packages (from tensorboard<2.12,>=2.11->tensorflow->-r requirements.txt (line 4)) (0.6.1)\n",
            "Requirement already satisfied: google-auth-oauthlib<0.5,>=0.4.1 in /usr/local/lib/python3.7/dist-packages (from tensorboard<2.12,>=2.11->tensorflow->-r requirements.txt (line 4)) (0.4.6)\n",
            "Requirement already satisfied: tensorboard-plugin-wit>=1.6.0 in /usr/local/lib/python3.7/dist-packages (from tensorboard<2.12,>=2.11->tensorflow->-r requirements.txt (line 4)) (1.8.1)\n",
            "Requirement already satisfied: requests<3,>=2.21.0 in /usr/local/lib/python3.7/dist-packages (from tensorboard<2.12,>=2.11->tensorflow->-r requirements.txt (line 4)) (2.23.0)\n",
            "Requirement already satisfied: werkzeug>=1.0.1 in /usr/local/lib/python3.7/dist-packages (from tensorboard<2.12,>=2.11->tensorflow->-r requirements.txt (line 4)) (1.0.1)\n",
            "Requirement already satisfied: rsa<5,>=3.1.4 in /usr/local/lib/python3.7/dist-packages (from google-auth<3,>=1.6.3->tensorboard<2.12,>=2.11->tensorflow->-r requirements.txt (line 4)) (4.9)\n",
            "Requirement already satisfied: pyasn1-modules>=0.2.1 in /usr/local/lib/python3.7/dist-packages (from google-auth<3,>=1.6.3->tensorboard<2.12,>=2.11->tensorflow->-r requirements.txt (line 4)) (0.2.8)\n",
            "Requirement already satisfied: cachetools<6.0,>=2.0.0 in /usr/local/lib/python3.7/dist-packages (from google-auth<3,>=1.6.3->tensorboard<2.12,>=2.11->tensorflow->-r requirements.txt (line 4)) (5.2.0)\n",
            "Requirement already satisfied: requests-oauthlib>=0.7.0 in /usr/local/lib/python3.7/dist-packages (from google-auth-oauthlib<0.5,>=0.4.1->tensorboard<2.12,>=2.11->tensorflow->-r requirements.txt (line 4)) (1.3.1)\n",
            "Requirement already satisfied: importlib-metadata>=4.4 in /usr/local/lib/python3.7/dist-packages (from markdown>=2.6.8->tensorboard<2.12,>=2.11->tensorflow->-r requirements.txt (line 4)) (4.13.0)\n",
            "Requirement already satisfied: zipp>=0.5 in /usr/local/lib/python3.7/dist-packages (from importlib-metadata>=4.4->markdown>=2.6.8->tensorboard<2.12,>=2.11->tensorflow->-r requirements.txt (line 4)) (3.10.0)\n",
            "Requirement already satisfied: pyasn1<0.5.0,>=0.4.6 in /usr/local/lib/python3.7/dist-packages (from pyasn1-modules>=0.2.1->google-auth<3,>=1.6.3->tensorboard<2.12,>=2.11->tensorflow->-r requirements.txt (line 4)) (0.4.8)\n",
            "Requirement already satisfied: certifi>=2017.4.17 in /usr/local/lib/python3.7/dist-packages (from requests<3,>=2.21.0->tensorboard<2.12,>=2.11->tensorflow->-r requirements.txt (line 4)) (2022.9.24)\n",
            "Requirement already satisfied: urllib3!=1.25.0,!=1.25.1,<1.26,>=1.21.1 in /usr/local/lib/python3.7/dist-packages (from requests<3,>=2.21.0->tensorboard<2.12,>=2.11->tensorflow->-r requirements.txt (line 4)) (1.24.3)\n",
            "Requirement already satisfied: chardet<4,>=3.0.2 in /usr/local/lib/python3.7/dist-packages (from requests<3,>=2.21.0->tensorboard<2.12,>=2.11->tensorflow->-r requirements.txt (line 4)) (3.0.4)\n",
            "Requirement already satisfied: idna<3,>=2.5 in /usr/local/lib/python3.7/dist-packages (from requests<3,>=2.21.0->tensorboard<2.12,>=2.11->tensorflow->-r requirements.txt (line 4)) (2.10)\n",
            "Requirement already satisfied: oauthlib>=3.0.0 in /usr/local/lib/python3.7/dist-packages (from requests-oauthlib>=0.7.0->google-auth-oauthlib<0.5,>=0.4.1->tensorboard<2.12,>=2.11->tensorflow->-r requirements.txt (line 4)) (3.2.2)\n",
            "Requirement already satisfied: pyparsing!=3.0.5,>=2.0.2 in /usr/local/lib/python3.7/dist-packages (from packaging->tensorflow->-r requirements.txt (line 4)) (3.0.9)\n",
            "Building wheels for collected packages: jaconv\n",
            "  Building wheel for jaconv (setup.py) ... \u001b[?25l\u001b[?25hdone\n",
            "  Created wheel for jaconv: filename=jaconv-0.3-py3-none-any.whl size=15566 sha256=9d3930b6f5e0b2311a0e612e99ecfa2661625cadc194227464d277b0583fb738\n",
            "  Stored in directory: /root/.cache/pip/wheels/8f/4f/c2/a2a3b14d0e94f855f4aa8887bf0267bee9ecfb8e62a9ee2d92\n",
            "Successfully built jaconv\n",
            "Installing collected packages: tensorflow-estimator, tensorboard, keras, flatbuffers, tensorflow, jaconv\n",
            "  Attempting uninstall: tensorflow-estimator\n",
            "    Found existing installation: tensorflow-estimator 2.9.0\n",
            "    Uninstalling tensorflow-estimator-2.9.0:\n",
            "      Successfully uninstalled tensorflow-estimator-2.9.0\n",
            "  Attempting uninstall: tensorboard\n",
            "    Found existing installation: tensorboard 2.9.1\n",
            "    Uninstalling tensorboard-2.9.1:\n",
            "      Successfully uninstalled tensorboard-2.9.1\n",
            "  Attempting uninstall: keras\n",
            "    Found existing installation: keras 2.9.0\n",
            "    Uninstalling keras-2.9.0:\n",
            "      Successfully uninstalled keras-2.9.0\n",
            "  Attempting uninstall: flatbuffers\n",
            "    Found existing installation: flatbuffers 1.12\n",
            "    Uninstalling flatbuffers-1.12:\n",
            "      Successfully uninstalled flatbuffers-1.12\n",
            "Successfully installed flatbuffers-22.11.23 jaconv-0.3 keras-2.11.0 tensorboard-2.11.0 tensorflow-2.11.0 tensorflow-estimator-2.11.0\n"
          ]
        }
      ]
    },
    {
      "cell_type": "code",
      "source": [
        "!wget https://www.nama.ne.jp/models/gpt2ja-small.tar.bz2"
      ],
      "metadata": {
        "colab": {
          "base_uri": "https://localhost:8080/"
        },
        "id": "Mm070vumdlkx",
        "outputId": "5a0b1710-412b-441b-9567-f27260bc958d"
      },
      "execution_count": 6,
      "outputs": [
        {
          "output_type": "stream",
          "name": "stdout",
          "text": [
            "--2022-11-25 06:38:37--  https://www.nama.ne.jp/models/gpt2ja-small.tar.bz2\n",
            "Resolving www.nama.ne.jp (www.nama.ne.jp)... 112.78.112.176\n",
            "Connecting to www.nama.ne.jp (www.nama.ne.jp)|112.78.112.176|:443... connected.\n",
            "HTTP request sent, awaiting response... 200 OK\n",
            "Length: 386498483 (369M) [application/x-bzip2]\n",
            "Saving to: ‘gpt2ja-small.tar.bz2’\n",
            "\n",
            "gpt2ja-small.tar.bz 100%[===================>] 368.59M  3.95MB/s    in 2m 16s  \n",
            "\n",
            "2022-11-25 06:40:54 (2.71 MB/s) - ‘gpt2ja-small.tar.bz2’ saved [386498483/386498483]\n",
            "\n"
          ]
        }
      ]
    },
    {
      "cell_type": "code",
      "source": [
        "!tar xvfj gpt2ja-small.tar.bz2"
      ],
      "metadata": {
        "colab": {
          "base_uri": "https://localhost:8080/"
        },
        "id": "Rv1Kvn08drsP",
        "outputId": "90ebd225-ab9b-4361-91e7-b38468a5def9"
      },
      "execution_count": 7,
      "outputs": [
        {
          "output_type": "stream",
          "name": "stdout",
          "text": [
            "gpt2ja-small/\n",
            "gpt2ja-small/checkpoint\n",
            "gpt2ja-small/model-10412700.data-00000-of-00001\n",
            "gpt2ja-small/model-10412700.index\n",
            "gpt2ja-small/model-10412700.meta\n",
            "special_thanks.txt\n"
          ]
        }
      ]
    },
    {
      "cell_type": "code",
      "source": [
        "!python gpt2-generate.py --model gpt2ja-small --num_generate 1"
      ],
      "metadata": {
        "colab": {
          "base_uri": "https://localhost:8080/"
        },
        "id": "Kdi_RQ--gEiI",
        "outputId": "a5d4fe15-ce1c-42b4-df98-3e5c7e100443"
      },
      "execution_count": 8,
      "outputs": [
        {
          "output_type": "stream",
          "name": "stdout",
          "text": [
            "2022-11-25 06:41:27.475021: I tensorflow/core/platform/cpu_feature_guard.cc:193] This TensorFlow binary is optimized with oneAPI Deep Neural Network Library (oneDNN) to use the following CPU instructions in performance-critical operations:  AVX2 FMA\n",
            "To enable them in other operations, rebuild TensorFlow with the appropriate compiler flags.\n",
            "2022-11-25 06:41:28.303078: W tensorflow/compiler/xla/stream_executor/platform/default/dso_loader.cc:64] Could not load dynamic library 'libnvinfer.so.7'; dlerror: libnvinfer.so.7: cannot open shared object file: No such file or directory; LD_LIBRARY_PATH: /usr/lib64-nvidia\n",
            "2022-11-25 06:41:28.303258: W tensorflow/compiler/xla/stream_executor/platform/default/dso_loader.cc:64] Could not load dynamic library 'libnvinfer_plugin.so.7'; dlerror: libnvinfer_plugin.so.7: cannot open shared object file: No such file or directory; LD_LIBRARY_PATH: /usr/lib64-nvidia\n",
            "2022-11-25 06:41:28.303281: W tensorflow/compiler/tf2tensorrt/utils/py_utils.cc:38] TF-TRT Warning: Cannot dlopen some TensorRT libraries. If you would like to use Nvidia GPU with TensorRT, please make sure the missing libraries mentioned above are installed properly.\n",
            "WARNING:tensorflow:From /usr/local/lib/python3.7/dist-packages/tensorflow/python/util/dispatch.py:1176: to_float (from tensorflow.python.ops.math_ops) is deprecated and will be removed in a future version.\n",
            "Instructions for updating:\n",
            "Use `tf.cast` instead.\n",
            "WARNING:tensorflow:From /usr/local/lib/python3.7/dist-packages/tensorflow/python/util/dispatch.py:1176: to_float (from tensorflow.python.ops.math_ops) is deprecated and will be removed in a future version.\n",
            "Instructions for updating:\n",
            "Use `tf.cast` instead.\n",
            "WARNING:tensorflow:From /usr/local/lib/python3.7/dist-packages/tensorflow/python/util/dispatch.py:1176: multinomial (from tensorflow.python.ops.random_ops) is deprecated and will be removed in a future version.\n",
            "Instructions for updating:\n",
            "Use `tf.random.categorical` instead.\n",
            "WARNING:tensorflow:From /usr/local/lib/python3.7/dist-packages/tensorflow/python/util/dispatch.py:1176: multinomial (from tensorflow.python.ops.random_ops) is deprecated and will be removed in a future version.\n",
            "Instructions for updating:\n",
            "Use `tf.random.categorical` instead.\n",
            "2.24、Bronze Brad Linkに、Cascatw のLMNTを採用しています。これはすごい便利になりましたね。\n",
            "また、LMNT で NFV 化すると、SNS や BLEでの Last Unit が楽になり、 HitOr での BERDEEBの Path がスムーズに通るようになるでしょう。\n",
            "LMNT は SBockract を使った HandWeek という Contion を使わない実装では、 LMNT が便利 になりました。\n",
            "Handweek というものによると、Pergit では SNS のメッセージを SNSHT に出力するらしいので、そのようにしています。\n",
            "今回は、Pergit でPergit Plugin を使った Sedun が Save になりますが、Signs では Riprise を使って I Need しています。\n",
            "Signs は Language を使った Stream を使う際には PC など、Language の Disgustive Spaceで使うイメージで作っているようです。\n",
            "SLEEP (\"Oh!\")には offsetor という Pla\n"
          ]
        }
      ]
    },
    {
      "cell_type": "code",
      "source": [
        "!python gpt2-generate.py --model gpt2ja-small --num_generate 1"
      ],
      "metadata": {
        "id": "hEU9ZVzZi0wo",
        "outputId": "469622da-dd7e-4c80-debf-21891d006010",
        "colab": {
          "base_uri": "https://localhost:8080/"
        }
      },
      "execution_count": 9,
      "outputs": [
        {
          "output_type": "stream",
          "name": "stdout",
          "text": [
            "2022-11-25 06:48:22.297207: I tensorflow/core/platform/cpu_feature_guard.cc:193] This TensorFlow binary is optimized with oneAPI Deep Neural Network Library (oneDNN) to use the following CPU instructions in performance-critical operations:  AVX2 FMA\n",
            "To enable them in other operations, rebuild TensorFlow with the appropriate compiler flags.\n",
            "2022-11-25 06:48:23.151094: W tensorflow/compiler/xla/stream_executor/platform/default/dso_loader.cc:64] Could not load dynamic library 'libnvinfer.so.7'; dlerror: libnvinfer.so.7: cannot open shared object file: No such file or directory; LD_LIBRARY_PATH: /usr/lib64-nvidia\n",
            "2022-11-25 06:48:23.151240: W tensorflow/compiler/xla/stream_executor/platform/default/dso_loader.cc:64] Could not load dynamic library 'libnvinfer_plugin.so.7'; dlerror: libnvinfer_plugin.so.7: cannot open shared object file: No such file or directory; LD_LIBRARY_PATH: /usr/lib64-nvidia\n",
            "2022-11-25 06:48:23.151263: W tensorflow/compiler/tf2tensorrt/utils/py_utils.cc:38] TF-TRT Warning: Cannot dlopen some TensorRT libraries. If you would like to use Nvidia GPU with TensorRT, please make sure the missing libraries mentioned above are installed properly.\n",
            "WARNING:tensorflow:From /usr/local/lib/python3.7/dist-packages/tensorflow/python/util/dispatch.py:1176: to_float (from tensorflow.python.ops.math_ops) is deprecated and will be removed in a future version.\n",
            "Instructions for updating:\n",
            "Use `tf.cast` instead.\n",
            "WARNING:tensorflow:From /usr/local/lib/python3.7/dist-packages/tensorflow/python/util/dispatch.py:1176: to_float (from tensorflow.python.ops.math_ops) is deprecated and will be removed in a future version.\n",
            "Instructions for updating:\n",
            "Use `tf.cast` instead.\n",
            "WARNING:tensorflow:From /usr/local/lib/python3.7/dist-packages/tensorflow/python/util/dispatch.py:1176: multinomial (from tensorflow.python.ops.random_ops) is deprecated and will be removed in a future version.\n",
            "Instructions for updating:\n",
            "Use `tf.random.categorical` instead.\n",
            "WARNING:tensorflow:From /usr/local/lib/python3.7/dist-packages/tensorflow/python/util/dispatch.py:1176: multinomial (from tensorflow.python.ops.random_ops) is deprecated and will be removed in a future version.\n",
            "Instructions for updating:\n",
            "Use `tf.random.categorical` instead.\n",
            "\n",
            ">17は、NHKのNHK総合でも放送権を持ちます。\n",
            "\n",
            "それ以外の受信料は、NHKの契約会社が管轄していますので、\n",
            "\n",
            "<URL>\n",
            "の該当紙に「受信料未払い」と記載があるので、\n",
            "\n",
            ">NHK総合の受信料は未納になります。\n",
            "\n",
            "受信料が未納になることはありえない。\n",
            "\n",
            "\n"
          ]
        }
      ]
    },
    {
      "cell_type": "code",
      "source": [
        "!python gpt2-generate.py --model gpt2ja-medium --context=\"むかし、むかし、あるところに、おじいさんとおばあさんがいました。おじいさんは山へ刈かりに、おばあさんは川へ洗濯に行きました。\"\n"
      ],
      "metadata": {
        "id": "CQeoNcXajFtO",
        "outputId": "d3f28fc8-f81e-4aec-d02a-3c4f5c2d516f",
        "colab": {
          "base_uri": "https://localhost:8080/"
        }
      },
      "execution_count": 10,
      "outputs": [
        {
          "output_type": "stream",
          "name": "stdout",
          "text": [
            "2022-11-25 06:49:31.860171: I tensorflow/core/platform/cpu_feature_guard.cc:193] This TensorFlow binary is optimized with oneAPI Deep Neural Network Library (oneDNN) to use the following CPU instructions in performance-critical operations:  AVX2 FMA\n",
            "To enable them in other operations, rebuild TensorFlow with the appropriate compiler flags.\n",
            "2022-11-25 06:49:32.702307: W tensorflow/compiler/xla/stream_executor/platform/default/dso_loader.cc:64] Could not load dynamic library 'libnvinfer.so.7'; dlerror: libnvinfer.so.7: cannot open shared object file: No such file or directory; LD_LIBRARY_PATH: /usr/lib64-nvidia\n",
            "2022-11-25 06:49:32.702425: W tensorflow/compiler/xla/stream_executor/platform/default/dso_loader.cc:64] Could not load dynamic library 'libnvinfer_plugin.so.7'; dlerror: libnvinfer_plugin.so.7: cannot open shared object file: No such file or directory; LD_LIBRARY_PATH: /usr/lib64-nvidia\n",
            "2022-11-25 06:49:32.702446: W tensorflow/compiler/tf2tensorrt/utils/py_utils.cc:38] TF-TRT Warning: Cannot dlopen some TensorRT libraries. If you would like to use Nvidia GPU with TensorRT, please make sure the missing libraries mentioned above are installed properly.\n",
            "WARNING:tensorflow:From /usr/local/lib/python3.7/dist-packages/tensorflow/python/util/dispatch.py:1176: to_float (from tensorflow.python.ops.math_ops) is deprecated and will be removed in a future version.\n",
            "Instructions for updating:\n",
            "Use `tf.cast` instead.\n",
            "WARNING:tensorflow:From /usr/local/lib/python3.7/dist-packages/tensorflow/python/util/dispatch.py:1176: to_float (from tensorflow.python.ops.math_ops) is deprecated and will be removed in a future version.\n",
            "Instructions for updating:\n",
            "Use `tf.cast` instead.\n",
            "WARNING:tensorflow:From /usr/local/lib/python3.7/dist-packages/tensorflow/python/util/dispatch.py:1176: multinomial (from tensorflow.python.ops.random_ops) is deprecated and will be removed in a future version.\n",
            "Instructions for updating:\n",
            "Use `tf.random.categorical` instead.\n",
            "WARNING:tensorflow:From /usr/local/lib/python3.7/dist-packages/tensorflow/python/util/dispatch.py:1176: multinomial (from tensorflow.python.ops.random_ops) is deprecated and will be removed in a future version.\n",
            "Instructions for updating:\n",
            "Use `tf.random.categorical` instead.\n",
            "Traceback (most recent call last):\n",
            "  File \"gpt2-generate.py\", line 113, in <module>\n",
            "    saver.restore(sess, ckpt)\n",
            "  File \"/usr/local/lib/python3.7/dist-packages/tensorflow/python/training/saver.py\", line 1403, in restore\n",
            "    raise ValueError(\"Can't load save_path when it is None.\")\n",
            "ValueError: Can't load save_path when it is None.\n"
          ]
        }
      ]
    },
    {
      "cell_type": "code",
      "source": [
        "!python gpt2-generate.py --model gpt2ja-medium --context=\"むかし、むかし、あるところに、おじいさんとおばあさんがいました。おじいさんは山へ刈かりに、おばあさんは川へ洗濯に行きました。\""
      ],
      "metadata": {
        "id": "91gIfWOJjNfp",
        "outputId": "71adafe5-e93e-4f5c-fb5b-1c9343d5f737",
        "colab": {
          "base_uri": "https://localhost:8080/"
        }
      },
      "execution_count": 11,
      "outputs": [
        {
          "output_type": "stream",
          "name": "stdout",
          "text": [
            "2022-11-25 06:50:07.444719: I tensorflow/core/platform/cpu_feature_guard.cc:193] This TensorFlow binary is optimized with oneAPI Deep Neural Network Library (oneDNN) to use the following CPU instructions in performance-critical operations:  AVX2 FMA\n",
            "To enable them in other operations, rebuild TensorFlow with the appropriate compiler flags.\n",
            "2022-11-25 06:50:08.274068: W tensorflow/compiler/xla/stream_executor/platform/default/dso_loader.cc:64] Could not load dynamic library 'libnvinfer.so.7'; dlerror: libnvinfer.so.7: cannot open shared object file: No such file or directory; LD_LIBRARY_PATH: /usr/lib64-nvidia\n",
            "2022-11-25 06:50:08.274174: W tensorflow/compiler/xla/stream_executor/platform/default/dso_loader.cc:64] Could not load dynamic library 'libnvinfer_plugin.so.7'; dlerror: libnvinfer_plugin.so.7: cannot open shared object file: No such file or directory; LD_LIBRARY_PATH: /usr/lib64-nvidia\n",
            "2022-11-25 06:50:08.274193: W tensorflow/compiler/tf2tensorrt/utils/py_utils.cc:38] TF-TRT Warning: Cannot dlopen some TensorRT libraries. If you would like to use Nvidia GPU with TensorRT, please make sure the missing libraries mentioned above are installed properly.\n",
            "WARNING:tensorflow:From /usr/local/lib/python3.7/dist-packages/tensorflow/python/util/dispatch.py:1176: to_float (from tensorflow.python.ops.math_ops) is deprecated and will be removed in a future version.\n",
            "Instructions for updating:\n",
            "Use `tf.cast` instead.\n",
            "WARNING:tensorflow:From /usr/local/lib/python3.7/dist-packages/tensorflow/python/util/dispatch.py:1176: to_float (from tensorflow.python.ops.math_ops) is deprecated and will be removed in a future version.\n",
            "Instructions for updating:\n",
            "Use `tf.cast` instead.\n",
            "WARNING:tensorflow:From /usr/local/lib/python3.7/dist-packages/tensorflow/python/util/dispatch.py:1176: multinomial (from tensorflow.python.ops.random_ops) is deprecated and will be removed in a future version.\n",
            "Instructions for updating:\n",
            "Use `tf.random.categorical` instead.\n",
            "WARNING:tensorflow:From /usr/local/lib/python3.7/dist-packages/tensorflow/python/util/dispatch.py:1176: multinomial (from tensorflow.python.ops.random_ops) is deprecated and will be removed in a future version.\n",
            "Instructions for updating:\n",
            "Use `tf.random.categorical` instead.\n",
            "Traceback (most recent call last):\n",
            "  File \"gpt2-generate.py\", line 113, in <module>\n",
            "    saver.restore(sess, ckpt)\n",
            "  File \"/usr/local/lib/python3.7/dist-packages/tensorflow/python/training/saver.py\", line 1403, in restore\n",
            "    raise ValueError(\"Can't load save_path when it is None.\")\n",
            "ValueError: Can't load save_path when it is None.\n"
          ]
        }
      ]
    },
    {
      "cell_type": "code",
      "source": [
        "!python gpt2-generate.py --model gpt2ja-small --context=\"むかし、むかし、あるところに、おじいさんとおばあさんがいました。おじいさんは山へ刈かりに、おばあさんは川へ洗濯に行きました。\""
      ],
      "metadata": {
        "id": "6PGV6vAfjXov",
        "outputId": "37d6296e-e93f-496c-bf7d-1afb3280fce6",
        "colab": {
          "base_uri": "https://localhost:8080/"
        }
      },
      "execution_count": 12,
      "outputs": [
        {
          "output_type": "stream",
          "name": "stdout",
          "text": [
            "2022-11-25 06:50:53.018378: I tensorflow/core/platform/cpu_feature_guard.cc:193] This TensorFlow binary is optimized with oneAPI Deep Neural Network Library (oneDNN) to use the following CPU instructions in performance-critical operations:  AVX2 FMA\n",
            "To enable them in other operations, rebuild TensorFlow with the appropriate compiler flags.\n",
            "2022-11-25 06:50:53.887247: W tensorflow/compiler/xla/stream_executor/platform/default/dso_loader.cc:64] Could not load dynamic library 'libnvinfer.so.7'; dlerror: libnvinfer.so.7: cannot open shared object file: No such file or directory; LD_LIBRARY_PATH: /usr/lib64-nvidia\n",
            "2022-11-25 06:50:53.887361: W tensorflow/compiler/xla/stream_executor/platform/default/dso_loader.cc:64] Could not load dynamic library 'libnvinfer_plugin.so.7'; dlerror: libnvinfer_plugin.so.7: cannot open shared object file: No such file or directory; LD_LIBRARY_PATH: /usr/lib64-nvidia\n",
            "2022-11-25 06:50:53.887380: W tensorflow/compiler/tf2tensorrt/utils/py_utils.cc:38] TF-TRT Warning: Cannot dlopen some TensorRT libraries. If you would like to use Nvidia GPU with TensorRT, please make sure the missing libraries mentioned above are installed properly.\n",
            "WARNING:tensorflow:From /usr/local/lib/python3.7/dist-packages/tensorflow/python/util/dispatch.py:1176: to_float (from tensorflow.python.ops.math_ops) is deprecated and will be removed in a future version.\n",
            "Instructions for updating:\n",
            "Use `tf.cast` instead.\n",
            "WARNING:tensorflow:From /usr/local/lib/python3.7/dist-packages/tensorflow/python/util/dispatch.py:1176: to_float (from tensorflow.python.ops.math_ops) is deprecated and will be removed in a future version.\n",
            "Instructions for updating:\n",
            "Use `tf.cast` instead.\n",
            "WARNING:tensorflow:From /usr/local/lib/python3.7/dist-packages/tensorflow/python/util/dispatch.py:1176: multinomial (from tensorflow.python.ops.random_ops) is deprecated and will be removed in a future version.\n",
            "Instructions for updating:\n",
            "Use `tf.random.categorical` instead.\n",
            "WARNING:tensorflow:From /usr/local/lib/python3.7/dist-packages/tensorflow/python/util/dispatch.py:1176: multinomial (from tensorflow.python.ops.random_ops) is deprecated and will be removed in a future version.\n",
            "Instructions for updating:\n",
            "Use `tf.random.categorical` instead.\n",
            "川は綺麗でしたが、おばあさんは疲れがたまっていたため、川の上流のほうに行くと川で釣っていた魚の群れが川辺に集まりました。そこへ、おじいさんおばあさん、そして人がいなくなったことに気づき、おじいさんは川の上流に行ってみました。川はその小川に流れがあったためました。するとそこに人間が集まってきました。おじいさんは人間を捕まえると川の上流のほうに泳ぎ去っていきました。おばあさんは人が集まるのを待って川で釣っていた魚を捨てると魚をあつめて川へ流しました。すると、おじいさんは魚が川辺に集まってきたのをとめました。するとそこに人がいたことに気づき、おじいさんは川向かって川へ逃げだしました。すると川に集っていた魚はみんな川に流されていくことになりました。するとここの川の上流には人がいなくなりました。するとおじいさん、おじいさんなに聞きました。おじいさんは川に泳ぎの魚が集まるのを待っていたのです。するとある男は自分の持っていた魚が川に流されないとは、魚を捕まえに川へ行くことを待っていたのだと言いました。おじいさんは魚に向かって口を開き、魚が来たところを待っていた。すると魚が来るのを待っていたわけではな\n",
            "========\n",
            "ある夏の日、おじいさんは川へ洗濯へ行きましたが、そこに、あるところに、あるひとの姿がありました。おじいさんは川へ洗濯に行きましたが、そこに、あるひとを捕まえようと、山へ行きましたが、おじいさんはそこに居ました。そして川へ洗濯へ行きましたが、そこは、ある山の方だったのです。おじいさんは、洗濯の途中で滑って、川に落ちていってしまいました。その後、どうしようもなくなったおじいさんは、川に戻り、川でどうしたらいいか困っていると、おじいさんは、川に戻ってきたおじいさんに話しかけました。おじいさんはそこに居ました。しかし、その後、おじいさんは、ある山の方へ行きましたが、そこに、ある一人の男が居ました。おじいさんは、これには戸惑いましたが、どうすればよいか、おじいさんは自分に聞きました。これから、何を見るか考えていると、おじいさんはある日、山へ着いていきました。するとその男は、ある山へと出向き、川に洗濯へ行きましたが、そこには、ある一人の男の姿がありました。しかし、ある山へ来てみると、そこには、ある男の姿がありました。そして、その男は、ある男を捕まえようと、川へと行きました。しかし、しかし、その男は\n",
            "========\n",
            "おじいさんは、村や川に沿って畑を作り、やがて水と農産物を運んで、川の中に流れる川の水の代わりに灌漑をしたのです。おじいさんは、畑に近づくにつれて、川へ水を引き入れようとしてはならないと言われ、川の流れは次第に川へと移り、川の流れは川の中へと消えて行ったのです」\n",
            "私は、父の話を思い出していた。\n",
            "「水の代わりに川の水を使うとしたら、川の水を使えと言われた者が他と同じ手に引っ掛かれば、いずれ水を引き入れようとするのでは、と父は考えたのです。ある川の水運者がこのように言いました。その話はあまりに曖昧なものであり、お父さんが見るにはもっと簡単な方法をとる必要がありそうです」\n",
            "私の話を聞いた父は、\n",
            "「それは間違っておる！ お主たちはそのような事を覚えたか！ 川の水を引き入れ、川の中に流れる川の水を使うと知ったら、川の水を引き出し流れる川の水を抜くとは、川の中の川の水は何も、川の中の川には存在しない。お主たちは思い出したか。川の中の川の水は何も作られておらぬ。川の水が抜け、川の中の川の水を使うとも知れずにそれらの水を引き入れたら、川の水はどうしてそのような事を覚えたのか。川の川は、川の中の川の水の代\n",
            "========\n",
            "おばあさんは、いつものように、私や私の母と畑に出て、野菜の世話、その中から採る野菜をきれいにしていたのです。\n",
            "ある日、そのおばあさんが帰ってきて、私を拾って育ててくれた。畑の人たちにはひどく悪い顔をされてきましたが、私にとって、母と兄が一番の宝物なのでした。やがて、父からも、兄からも、そうじゃないかなと、色々と相談をうけました。けれども、おじいさんのことが少し気にかかると、おじいさんも同じようなことを悩まれるようになりました。母は、よく兄を困らせますが、おじいさんにはすごく苦しそうで、どうしたらいいのか分からないようでした。\n",
            "ある日、父がおじさんに「お母さんを泣かせないで」といって、私の部屋へやってきた。そのおじいさんは、母に「おや、おばあさんが来ていたのか」と、嬉しそうに言いました。父は、困った顔をして、その部屋にいる私を部屋へ押し戻しはいましたが、おじいさんは部屋のなかをのぞき込（かい）みました。私はそこに、兄の話を聞こうとしていたのでした。けれども、その兄は部屋へ入ろうとしました。すると、部屋のどこかから、大きな足音がして、部屋の扉が開かれました。そして、おじいさんは部屋の中へ入\n",
            "========\n",
            "そこで、おじいさんはお父さんを見て驚き、また村の方へ来ようと誘いました。おじいさんは嬉しくて、おじいさんは、川の魚を獲りに行きました。川からは、川に住む魚が、山菜採りにして出てくる魚が、そのまま獲りに行く漁だったため、魚は、山菜の種を与えて獲りに行きました。ある日、その魚は、川の魚が、その川の魚を見て喜んでいたので、魚は、魚の姿に喜び、魚と魚が入り交わる村の方へ運ばれていきました。もちろん、魚が獲れるように、川の魚は山菜で、野菜も売られ、魚は魚達の山菜が育ち、魚達の町が出来たのを喜ぶ、不思議な光景でした。ある日、川の魚は川で捕れる魚達の町が終わり、川の魚達は、川の魚達のために海へ魚を出すことへ、喜びを感じるようになりました。魚達は魚達に群れて、魚達は魚達を食べて暮らしました。しかし、魚達のお母さんから、魚達は、魚達と魚達がたいていの魚を獲りに行く、漁が終わったと思ったら、海の魚達が山の魚達に、食料を与えて、川の魚達にお礼や、新しい食料の配給をしてきたため、魚と魚は町へ帰る、と、魚達は新しい食料を、魚達には配りさせたが、魚達は魚達のために村へ帰ろうとし、魚達は魚達に群れて、魚達はその魚達\n"
          ]
        }
      ]
    }
  ]
}